{
 "cells": [
  {
   "cell_type": "markdown",
   "metadata": {
    "id": "lgM0m7FQBO0S"
   },
   "source": [
    "# Lab 01: Data preprocessing\n",
    "\n",
    "Họ tên: Đỗ Đạt Thành\n",
    "\n",
    "MSSV: 20127411"
   ]
  },
  {
   "cell_type": "markdown",
   "metadata": {
    "id": "GRXNy_qfmJEx"
   },
   "source": [
    "**Cách làm bài**\n",
    "\n",
    "Bạn sẽ làm trực tiếp trên file notebook này. Đầu tiên, bạn điền họ tên và MSSV vào phần đầu file ở bên trên. Trong file, bạn làm bài ở những chỗ có ghi là:\n",
    "```python\n",
    "# YOUR CODE HERE\n",
    "raise NotImplementedError()\n",
    "```\n",
    "hoặc đối với những phần code không bắt buộc thì là:\n",
    "```python\n",
    "# YOUR CODE HERE (OPTION)\n",
    "```\n",
    "hoặc đối với markdown cell thì là:\n",
    "```markdown\n",
    "YOUR ANSWER HERE\n",
    "```\n",
    "Tất nhiên, khi làm thì bạn xóa dòng `raise NotImplementedError()` đi.\n",
    "Đối những phần yêu cầu code thì thường ở ngay phía dưới sẽ có một (hoặc một số) cell chứa các bộ test để giúp bạn biết đã code đúng hay chưa; nếu chạy cell này không có lỗi gì thì có nghĩa là qua được các bộ test. Trong một số trường hợp, các bộ test có thể sẽ không đầy đủ; nghĩa là, nếu không qua được test thì là code sai, nhưng nếu qua được test thì chưa chắc đã đúng.\n",
    "\n",
    "Trong khi làm bài, bạn có thể cho in ra màn hình, tạo thêm các cell để test. Nhưng khi nộp bài thì bạn xóa hoặc comment các câu lệnh in ra màn hình. Bạn lưu ý <font color=red>không được tự tiện xóa các cell hay sửa code của các cell có sẵn</font> (trừ những chỗ được phép sửa như đã nói ở trên). Bên cạnh đó, các bạn có thể tự mình tạo thêm các hàm phụ trợ nhằm mục tiêu giải quyết bài toán\n",
    "\n",
    "Trong khi làm bài, thường xuyên `Ctrl + S` để lưu lại bài làm của bạn, tránh mất mát thông tin.\n",
    "\n",
    "\n",
    "*Nên nhớ mục tiêu chính ở đây là <font color=green>học, học một cách chân thật</font>. Bạn có thể thảo luận ý tưởng với bạn khác cũng như tham khảo các nguồn trên mạng, nhưng sau cùng <font color=green>code và bài làm phải là của bạn, dựa trên sự hiểu thật sự của bạn</font>. Khi tham khảo các nguồn trên mạng thì bạn cần ghi rõ nguồn trong bài làm. Bạn không được tham khảo bài làm của các bạn năm trước (vì nếu làm vậy thì bao giờ bạn mới có thể tự mình suy nghĩ để giải quyết vấn đề); sau khi kết thúc môn học, bạn cũng không được đưa bài làm cho các bạn khóa sau hoặc public bài làm trên Github (vì nếu làm vậy thì sẽ ảnh hưởng tới việc học của các bạn khóa sau).\n",
    "\n",
    "<font color=red>Trong trường hợp bạn vi phạm những điều mình nói ở trên thì mình sẽ đề nghị giảng viên lý thuyết cho 0 điểm môn học.</font>\n",
    "\n",
    "**Cách nộp bài**\n",
    "\n",
    "Khi chấm bài, đầu tiên mình sẽ chọn `Kernel` - `Restart & Run All`, để restart và chạy tất cả các cell trong notebook của bạn; do đó, trước khi nộp bài, bạn nên chạy thử `Kernel` - `Restart & Run All` để đảm bảo mọi chuyện diễn ra đúng như mong đợi.\n",
    "\n",
    "Sau đó, bạn tạo thư mục nộp bài theo cấu trúc sau:\n",
    "- Thư mục `MSSV` (vd, nếu bạn có MSSV là 1234567 thì bạn đặt tên thư mục là `1234567`)\n",
    "    - File `Lab01.ipynb` (không cần nộp các file khác)\n",
    "\n",
    "Cuối cùng, bạn nén thư mục `MSSV` này lại và nộp ở link trên moodle. Đuôi của file nén phải là .zip (chứ không được .rar hay gì khác).\n",
    "\n",
    "<font color=red>Bạn lưu ý tuân thủ chính xác qui định nộp bài ở trên.</font>"
   ]
  },
  {
   "cell_type": "markdown",
   "metadata": {
    "id": "57WGVggnr9Fz"
   },
   "source": [
    "**Mục tiêu bài tập**\n",
    "\n",
    "Sinh viên có khả năng hiểu và cài đặt lại các hàm bổ trợ cho việc tiền xử lý dữ liệu\n",
    "\n",
    "**Mô tả yêu cầu**\n",
    "\n",
    "Sinh viên sẽ đọc vào một file dữ liệu có định dạng `.csv` (các giá trị thiếu sẽ được ký hiệu bằng chuỗi rỗng), sau đó sẽ thực hiện lần lượt các yêu cầu liên quan đến tiền xử lý dữ liệu"
   ]
  },
  {
   "cell_type": "markdown",
   "metadata": {
    "id": "4vw9l22Qmz_K"
   },
   "source": [
    "## Import"
   ]
  },
  {
   "cell_type": "code",
   "execution_count": 2,
   "metadata": {
    "id": "Eb9O7Il0my42"
   },
   "outputs": [],
   "source": [
    "\n",
    "import math\n",
    "import csv\n"
   ]
  },
  {
   "cell_type": "markdown",
   "metadata": {
    "id": "HBug-Plhm-FD"
   },
   "source": [
    "## Thu thập dữ liệu"
   ]
  },
  {
   "cell_type": "markdown",
   "metadata": {
    "id": "CWudI9-rBO0b"
   },
   "source": [
    "Các bạn sẽ tải file điểm thi THPT 2019 tại [đây](https://drive.google.com/drive/folders/19f-UOvwN5hkpOqqXr84L7UdE71dXzWnY?usp=sharing)"
   ]
  },
  {
   "cell_type": "markdown",
   "metadata": {
    "id": "ZXMkvEeMBO0b"
   },
   "source": [
    "## Phần 1: Tiền xử lý dữ liệu (7.5đ)\n",
    "\n",
    "**Lưu ý:**\n",
    "\n",
    "Sinh viên không được sử dụng các hàm có sẵn của pandas hay numpy mà cần phải tự cài đặt lại"
   ]
  },
  {
   "cell_type": "markdown",
   "metadata": {
    "id": "FsMofBU4BO0c"
   },
   "source": [
    "Mô tả dữ liệu theo thứ tự cột:\n",
    "```\n",
    "id :                 int\n",
    "Hoa :                float \n",
    "Li :                 float \n",
    "Ma_mon_ngoai_ngu :   str\n",
    "Ngoai_ngu :          float \n",
    "Sinh :               float \n",
    "Toan :               float \n",
    "Van :                float\n",
    "``` \n",
    "\n",
    "Tuy nhiên, đọc file bằng thư viện csv sẽ chuyển tất cả các giá trị về kiểu `str`, ta sẽ sẽ ép kiểu các giá trị số (trừ các giá trị rỗng) về theo kiểu dữ liệu phù hợp "
   ]
  },
  {
   "cell_type": "markdown",
   "metadata": {
    "id": "WYk0DMQNBO0d"
   },
   "source": [
    "Đọc file dữ liệu"
   ]
  },
  {
   "cell_type": "code",
   "execution_count": 3,
   "metadata": {
    "id": "ldTDDNd7mInK"
   },
   "outputs": [],
   "source": [
    "def data_reader(path):\n",
    "    csv_reader = csv.reader(open(path, 'r'), delimiter=',')\n",
    "\n",
    "    # Skip header\n",
    "    data = []\n",
    "    header = csv_reader\n",
    "    for i,row in enumerate(csv_reader):\n",
    "        if i == 0:\n",
    "            header = row\n",
    "            continue\n",
    "        convert_list = []\n",
    "        for i, element in enumerate(row):\n",
    "            if element == '':\n",
    "                convert_list.append(str(element))\n",
    "                continue\n",
    "            if i == 0:\n",
    "                convert_list.append(int(element))\n",
    "            elif i == 3:\n",
    "                convert_list.append(str(element))\n",
    "            else:\n",
    "                convert_list.append(float(element))\n",
    "        data.append(convert_list)\n",
    "    return header, data"
   ]
  },
  {
   "cell_type": "code",
   "execution_count": 4,
   "metadata": {
    "id": "r2-3-J79BO0e"
   },
   "outputs": [],
   "source": [
    "header, data = data_reader('diemthi2019.csv')"
   ]
  },
  {
   "cell_type": "code",
   "execution_count": 5,
   "metadata": {
    "id": "kcsfO_rFBO0e"
   },
   "outputs": [
    {
     "name": "stdout",
     "output_type": "stream",
     "text": [
      "header:  ['id', 'Hoa', 'Li', 'Ma_mon_ngoai_ngu', 'Ngoai_ngu', 'Sinh', 'Toan', 'Van']\n",
      "So dong:  296980\n"
     ]
    }
   ],
   "source": [
    "print(\"header: \", header)\n",
    "print(\"So dong: \", len(data))"
   ]
  },
  {
   "cell_type": "code",
   "execution_count": 6,
   "metadata": {
    "id": "wyEDYgkKBO0e"
   },
   "outputs": [
    {
     "data": {
      "text/plain": [
       "[[23, 6.75, 5.25, 'N1', 3.6, 3.25, 7.0, 6.17],\n",
       " [24, 7.75, 7.0, 'N1', 5.4, 4.0, 7.8, 5.0],\n",
       " [25, 3.75, 3.5, '', '', '', 6.8, ''],\n",
       " [26, 4.5, 5.75, 'N1', 8.0, 4.75, 8.2, 6.0],\n",
       " [27, 3.5, 6.75, 'N1', 6.2, 3.0, 7.6, 7.25],\n",
       " [28, 3.0, 5.5, 'N1', 4.8, 3.75, 6.2, 4.75],\n",
       " [29, 3.75, 7.5, 'N1', 6.4, 2.5, 7.2, 6.75],\n",
       " [30, 3.75, 6.0, 'N1', 7.6, 4.25, 7.6, 7.25],\n",
       " [31, 4.5, 5.75, 'N1', 6.6, 4.75, 7.2, 5.5],\n",
       " [32, 7.0, 4.75, 'N1', 5.4, 7.0, 7.2, 8.0]]"
      ]
     },
     "execution_count": 6,
     "metadata": {},
     "output_type": "execute_result"
    }
   ],
   "source": [
    "data[23:33]"
   ]
  },
  {
   "cell_type": "markdown",
   "metadata": {
    "id": "b6mR8GQkBO0f"
   },
   "source": [
    "### 1) Liệt kê các cột thiếu dữ liệu (0.5đ)\n",
    "Hàm `checkNaN_col()` sẽ trả về `list` chứa tên cột nếu như cột bị thiếu dữ liệu"
   ]
  },
  {
   "cell_type": "code",
   "execution_count": 7,
   "metadata": {
    "id": "zDQ_uSLBmNrB"
   },
   "outputs": [],
   "source": [
    "def checkNaN_col(data, header):\n",
    "    \"\"\"Hàm này sẽ liệt kê các cột có chứa dữ liệu có dạng chuỗi rỗng\n",
    "\n",
    "    Args:\n",
    "        data <list<list>>: list của các dòng dữ liệu trong file dữ liệu đầu vào, mỗi dòng sẽ là một list các giá trị\n",
    "        header <list>: list chứa tên của các cột trong file dữ liệu\n",
    "\n",
    "    Returns:\n",
    "        <list>: danh sách chứa tên các cột có chứa giá trị chuỗi rỗng\n",
    "    \"\"\"\n",
    "    # YOUR CODE HERE\n",
    "    lst = []\n",
    "    \n",
    "    for col in range(len(header)):\n",
    "        for row in range(len(data)):\n",
    "            if data[row][col] == '':\n",
    "                lst.append(header[col])\n",
    "                break\n",
    "    return lst\n",
    "#     raise NotImplementedError()"
   ]
  },
  {
   "cell_type": "code",
   "execution_count": 8,
   "metadata": {
    "id": "28oymE_jyZM1"
   },
   "outputs": [],
   "source": [
    "assert len(checkNaN_col(data, header)) == 7"
   ]
  },
  {
   "cell_type": "markdown",
   "metadata": {
    "id": "gR-Hr4HJBO0f"
   },
   "source": [
    "Hàm `checkNaN_row()` sẽ trả về `list` chứa index của các dòng có tồn tại giá trị rỗng"
   ]
  },
  {
   "cell_type": "code",
   "execution_count": 9,
   "metadata": {
    "id": "uhENRinXBO0f"
   },
   "outputs": [],
   "source": [
    "def checkNaN_row(data):\n",
    "    \"\"\"Hàm này sẽ đếm số dòng có chứa dữ liệu có dạng chuỗi rỗng\n",
    "\n",
    "    Args:\n",
    "        data <list<list>>: list của các dòng dữ liệu trong file dữ liệu đầu vào, mỗi dòng sẽ là một list các giá trị\n",
    "        \n",
    "    Returns:\n",
    "        <list>: danh sách chứa index của các dòng có tồn tại giá trị chuỗi rỗng\n",
    "    \"\"\"\n",
    "    # YOUR CODE HERE\n",
    "    lst = []\n",
    "    \n",
    "    for row in data:\n",
    "        for st in row:\n",
    "            if st == '':\n",
    "                lst.append(row)\n",
    "                break\n",
    "    return lst\n",
    "#     raise NotImplementedError()"
   ]
  },
  {
   "cell_type": "code",
   "execution_count": 10,
   "metadata": {
    "id": "pJ0lMU2rBO0f"
   },
   "outputs": [],
   "source": [
    "row_have_NaN = checkNaN_row(data)\n",
    "assert len(row_have_NaN) == 17753"
   ]
  },
  {
   "cell_type": "markdown",
   "metadata": {
    "id": "Bqzd9sAFBO0f"
   },
   "source": [
    "### 2) Điền giá trị thiếu (1.5đ)\n",
    "Điền giá trị thiếu bằng phương pháp constant (điền giá trị 0), mean, median vào giá trị thiếu cho cột numeric, và mode cho cột categorical. Đối với các thuộc tính numeric, giá trị điền vào sẽ là giá trị `float`, đối với thuộc tính categorical, giá trị điền vào sẽ là giá trị `str`\n",
    "\n",
    "**Lưu ý:** khi tính mean, median hay mode các bạn cần bỏ qua giá trị bị thiếu. Khi thao tác trên các cột dạng float, kết quả phải được làm tròn ở hai chữ số bằng hàm `round()`\n",
    "\n",
    "Hàm tính mean/median/mode của các cột tương ứng trong dữ liệu sẽ trả về một danh sách, chứa các giá trị mean/median/mode của các cột, và sẽ được hàm `fill_data()` sử dụng danh sách đó để điền vào giá trị thiếu\n",
    "\n"
   ]
  },
  {
   "cell_type": "code",
   "execution_count": 11,
   "metadata": {
    "id": "U3ehqwqPBO0g"
   },
   "outputs": [],
   "source": [
    "def sum_data(data):\n",
    "    \"\"\"Hàm này dùng để tính tổng theo các cột có dạng numeric\n",
    "\n",
    "    Args:\n",
    "        data <list<list>>: list của các dòng dữ liệu trong file dữ liệu đầu vào, mỗi dòng sẽ là một list các giá trị\n",
    "\n",
    "    Returns:\n",
    "        <list>, list chứa các giá trị tổng theo cột\n",
    "        <list>: list chứa số lượng giá trị khác giá trị chuỗi rỗng\n",
    "    \"\"\"\n",
    "    # Hàm này sẽ được dùng bổ trợ để tính sum và số lượng mẫu không bị thiếu của từng cột thuộc tính (trừ cột id)\n",
    "    # YOUR CODE HERE (OPTION)\n",
    "    sum_lst = [0 for i in range(len(header))]\n",
    "    count_lst = [0 for i in range(len(header))]\n",
    "    \n",
    "    for col in range(1,len(header)):\n",
    "        for row in range(len(data)):\n",
    "            if isinstance(data[row][col],str) != True:\n",
    "                sum_lst[col] += data[row][col]\n",
    "                count_lst[col]+=1\n",
    "    return sum_lst, count_lst"
   ]
  },
  {
   "cell_type": "code",
   "execution_count": 12,
   "metadata": {
    "id": "pj-uBXxeBO0g"
   },
   "outputs": [],
   "source": [
    "def mean(data):\n",
    "    \"\"\"Hàm này dùng để tính trung bình theo các cột có dạng numeric\n",
    "\n",
    "    Args:\n",
    "        data <list<list>>: list của các dòng dữ liệu trong file dữ liệu đầu vào, mỗi dòng sẽ là một list các giá trị\n",
    "\n",
    "    Returns:\n",
    "        <list>: list chứa các giá trị trung bình theo từng cột\n",
    "    \"\"\"\n",
    "    # YOUR CODE HERE\n",
    "    res = []\n",
    "    sum_lst, count_lst = sum_data(data)\n",
    "    \n",
    "    for i in range(len(sum_lst)):\n",
    "        if sum_lst[i] != 0 and count_lst[i] != 0:\n",
    "            res.append(round(sum_lst[i]/count_lst[i], 2))\n",
    "            \n",
    "    return res\n",
    "#     raise NotImplementedError()"
   ]
  },
  {
   "cell_type": "code",
   "execution_count": 13,
   "metadata": {
    "id": "5j4Z4gRjBO0g"
   },
   "outputs": [],
   "source": [
    "assert mean(data) == [5.34, 5.56, 4.76, 4.67, 6.8, 5.62]"
   ]
  },
  {
   "cell_type": "code",
   "execution_count": 14,
   "metadata": {
    "id": "IqxUiO25BO0g"
   },
   "outputs": [],
   "source": [
    "def median(data):\n",
    "    \"\"\"Hàm này dùng để tính trung bình theo các cột có dạng numeric\n",
    "\n",
    "    Args:\n",
    "        data <list<list>>: list của các dòng dữ liệu trong file dữ liệu đầu vào, mỗi dòng sẽ là một list các giá trị\n",
    "\n",
    "    Returns:\n",
    "        <list>: list chứa các giá trị trung vị theo từng cột\n",
    "    \"\"\"\n",
    "    # YOUR CODE HERE\n",
    "    res = []\n",
    "    \n",
    "    for col in range(len(header)):\n",
    "        temp = []\n",
    "        for row in range(len(data)):\n",
    "            if type(data[0][col]) == float:\n",
    "                if(data[row][col] != \"\"):\n",
    "                    temp.append(data[row][col])\n",
    "            else:\n",
    "                break\n",
    "        if(len(temp) != 0): \n",
    "            temp.sort()\n",
    "            res.append(temp[int(len(temp)/2) + 1])\n",
    "    return res\n",
    "#     raise NotImplementedError()"
   ]
  },
  {
   "cell_type": "code",
   "execution_count": 15,
   "metadata": {
    "id": "MQ6BX685BO0g"
   },
   "outputs": [],
   "source": [
    "assert median(data) == [5.5, 5.75, 4.4, 4.5, 7.0, 5.75]"
   ]
  },
  {
   "cell_type": "code",
   "execution_count": 16,
   "metadata": {
    "id": "tsMZUlpuBO0g"
   },
   "outputs": [],
   "source": [
    "def find_distinct_value(data):\n",
    "    \"\"\"Hàm này sẽ có nhiệm vụ tìm và trả về danh sách chứa các giá trị có thể có của cột 'Ma_mon_ngoai_ngu'\n",
    "\n",
    "    Args:\n",
    "        data <list<list>>: list của các dòng dữ liệu trong file dữ liệu đầu vào, mỗi dòng sẽ là một list các giá trị\n",
    "\n",
    "    Returns:\n",
    "        <list>: list đã được sắp xếp, chứa các giá trị chuỗi có thể có của cột 'Ma_mon_ngoai_ngu'\n",
    "    \"\"\"\n",
    "    # # Chỉ cần quan tâm đến cột 'Ma_mon_ngoai_ngu' và tìm ra các giá trị có thể có\n",
    "    # YOUR CODE HERE\n",
    "    res = []\n",
    "    \n",
    "    for i in range(len(data)):\n",
    "        if data[i][3] not in res:\n",
    "            if data[i][3] != '':\n",
    "                res.append(data[i][3])\n",
    "            \n",
    "    return sorted(res)\n",
    "#     raise NotImplementedError()"
   ]
  },
  {
   "cell_type": "markdown",
   "metadata": {
    "id": "h6KE8voSBO0g"
   },
   "source": [
    "Thực hiện đếm số lần xuất hiện của các giá trị đã được tìm và chọn ra giá trị xuất hiện nhiều lần nhất, nếu có nhiều giá trị cùng xuất hiện nhiều lần, thì chọn giá trị nhỏ hơn theo bảng chữ cái"
   ]
  },
  {
   "cell_type": "code",
   "execution_count": 17,
   "metadata": {
    "id": "JXmkV8H8BO0g"
   },
   "outputs": [],
   "source": [
    "def mode(data):\n",
    "    \"\"\"Hàm này sẽ có mục tiêu tìm ra giá trị chuỗi xuất hiện nhiều lần nhất. Để đơn giản, sinh viên chỉ cần quan đến cột 'Ma_mon_ngoai_ngu'\n",
    "\n",
    "    Args:\n",
    "        data <list<list>>: list của các dòng dữ liệu trong file dữ liệu đầu vào, mỗi dòng sẽ là một list các giá trị\n",
    "\n",
    "    Returns:\n",
    "        str: giá trị chuỗi xuất hiện nhiều lần nhất trong cột 'Ma_mon_ngoai_ngu', nếu có nhiều hơn một kết quả, chọn chuỗi nhỏ hơn theo bảng chữ cái\n",
    "    \"\"\"\n",
    "    # YOUR CODE HERE\n",
    "    res = []\n",
    "    temp = {}\n",
    "    \n",
    "    for i in range(len(data)):\n",
    "        if data[i][3] != \"\":\n",
    "            if data[i][3] not in temp.keys():\n",
    "                temp[data[i][3]] = 0\n",
    "            else:\n",
    "                temp[data[i][3]] += 1\n",
    "                \n",
    "    for key in temp.keys():\n",
    "        if temp.get(key) == max(temp.values()):\n",
    "            res.append(key)\n",
    "    res.sort()\n",
    "    \n",
    "    return res[0]\n",
    "\n",
    "#     raise NotImplementedError()"
   ]
  },
  {
   "cell_type": "markdown",
   "metadata": {
    "id": "H4uNlowbBO0h"
   },
   "source": [
    "Hàm `fill_data` sẽ cho phép tùy chọn điền vào giá trị thiếu của cột dạng numeric bằng giá trị 0 hoặc `mean` hoặc `median`, còn cột có dạng categorical sẽ mặc định được fill bằng mode"
   ]
  },
  {
   "cell_type": "code",
   "execution_count": 18,
   "metadata": {
    "id": "w9MPnkDnBO0h"
   },
   "outputs": [],
   "source": [
    "def fill_data(data, type_on_numeric = 'mean'):\n",
    "    \"\"\"Hàm này có nhiệm vụ điền dữ liệu bị thiếu\n",
    "\n",
    "    Args:\n",
    "        data <list<list>>: list của các dòng dữ liệu trong file dữ liệu đầu vào, mỗi dòng sẽ là một list các giá trị\n",
    "        type_on_numeric (str, optional): phương pháp điền dữ liệu cho cột numeric (const/mean/median)\n",
    "\n",
    "    Returns:\n",
    "        <list<list>>: dữ liệu sau khi đã được điền vào các giá trị thiếu, dữ liệu là list của các dòng, mỗi dòng là một list chứa các giá trị\n",
    "    \"\"\"\n",
    "    if type_on_numeric == 'const':\n",
    "        # YOUR CODE HERE\n",
    "        res = []\n",
    "        \n",
    "        for row in data:\n",
    "            temp = []\n",
    "            for element in row:\n",
    "                temp.append(element)\n",
    "            res.append(temp)\n",
    "            \n",
    "        key = mode(res)\n",
    "        \n",
    "        for col in range(1,len(data[0])):\n",
    "            if isinstance(res[0][col],float) == False:\n",
    "                for row in range(len(res)):\n",
    "                    if res[row][col] == \"\":\n",
    "                        res[row][col] = key\n",
    "            for row in range(len(res)):\n",
    "                if res[row][col] =='':\n",
    "                    res[row][col] = 0\n",
    "        \n",
    "        return res\n",
    "#         raise NotImplementedError()\n",
    "    elif type_on_numeric == 'mean':\n",
    "        # YOUR CODE HERE\n",
    "        res = []\n",
    "        \n",
    "        for row in data:\n",
    "            temp = []\n",
    "            for element in row:\n",
    "                temp.append(element)\n",
    "            res.append(temp)\n",
    "        \n",
    "        key = mode(res)\n",
    "        my_mean = mean(res)\n",
    "        cur = 0\n",
    "        \n",
    "        for col in range(1,len(header)):\n",
    "            if type(res[0][col]) != float:\n",
    "                for row in range(len(res)):\n",
    "                    if res[row][col] == '':\n",
    "                        res[row][col] = key\n",
    "                continue\n",
    "            for row in range(len(res)):\n",
    "                if res[row][col] == '':\n",
    "                    res[row][col] = my_mean[cur]\n",
    "            cur+=1\n",
    "        \n",
    "        return res                    \n",
    "#         raise NotImplementedError()\n",
    "    elif type_on_numeric == 'median':\n",
    "        # YOUR CODE HERE\n",
    "        res = []\n",
    "        \n",
    "        for row in data:\n",
    "            temp = []\n",
    "            for element in row:\n",
    "                temp.append(element)\n",
    "            res.append(temp)\n",
    "            \n",
    "        key = mode(res)\n",
    "        my_median = median(res)\n",
    "        cur = 0\n",
    "        \n",
    "        for col in range(1,len(header)):\n",
    "            if type(res[0][col]) != float:\n",
    "                for row in range(len(res)):\n",
    "                    if res[row][col] == '':\n",
    "                        res[row][col] = key\n",
    "                continue\n",
    "            for row in range(len(res)):\n",
    "                if res[row][col] == '':\n",
    "                    res[row][col] = my_median[cur]\n",
    "            cur+=1\n",
    "        \n",
    "        return res                    \n",
    "#         raise NotImplementedError() "
   ]
  },
  {
   "cell_type": "code",
   "execution_count": 19,
   "metadata": {
    "id": "kz_tGca9BO0h"
   },
   "outputs": [],
   "source": [
    "data_filled_const = fill_data(data, type_on_numeric = 'const')\n",
    "data_filled_mean = fill_data(data, type_on_numeric = 'mean')\n",
    "data_filled_median = fill_data(data, type_on_numeric = 'median')"
   ]
  },
  {
   "cell_type": "code",
   "execution_count": 20,
   "metadata": {
    "id": "mE88R74DBO0h"
   },
   "outputs": [],
   "source": [
    "assert data_filled_const[20] == [20, 3.0, 0, 'N1', 0, 5.0, 4.8, 0]\n",
    "assert data_filled_const[25] == [25, 3.75, 3.5, 'N1', 0, 0, 6.8, 0]"
   ]
  },
  {
   "cell_type": "code",
   "execution_count": 21,
   "metadata": {
    "id": "Rbw8R2U-BO0h"
   },
   "outputs": [],
   "source": [
    "assert data_filled_mean[20] == [20, 3.0, 5.56, 'N1', 4.76, 5.0, 4.8, 5.62]\n",
    "assert data_filled_mean[25] == [25, 3.75, 3.5, 'N1', 4.76, 4.67, 6.8, 5.62]"
   ]
  },
  {
   "cell_type": "code",
   "execution_count": 22,
   "metadata": {
    "id": "WcA250EWBO0h"
   },
   "outputs": [],
   "source": [
    "assert data_filled_median[20] == [20, 3.0, 5.75, 'N1', 4.4, 5.0, 4.8, 5.75]\n",
    "assert data_filled_median[25] == [25, 3.75, 3.5, 'N1', 4.4, 4.5, 6.8, 5.75]"
   ]
  },
  {
   "cell_type": "markdown",
   "metadata": {
    "id": "cUZCkaD0BO0h"
   },
   "source": [
    "### 3) Xóa các dòng và cột mang số lượng của giá trị thiếu lớn hơn một ngưỡng cho trước (0.5đ)\n",
    "Hàm `filter_missing_row()` sẽ nhận vào dữ liệu và tỉ lệ ngưỡng `ratio` giữa số lượng dữ liệu thiếu và tổng số lượng thuộc tính. Lấy ví dụ, nếu `ratio=0.5` thì các hàng có số lượng giá trị thiếu lớn hơn 50% sẽ bị loại bỏ khỏi tập dữ liệu"
   ]
  },
  {
   "cell_type": "code",
   "execution_count": 23,
   "metadata": {
    "id": "1RZxRkN9BO0h"
   },
   "outputs": [],
   "source": [
    "def filter_missing_row(data, ratio = 0.5):\n",
    "    \"\"\"Hàm này có nhiệm vụ xóa đi các dòng có tỉ lệ dữ liệu bị thiếu LỚN HƠN HOẶC BẰNG một ngưỡng cho trước\n",
    "\n",
    "    Args:\n",
    "        data <list<list>>: list của các dòng dữ liệu trong file dữ liệu đầu vào, mỗi dòng sẽ là một list các giá trị\n",
    "        ratio (float, optional): Tỉ lệ ngưỡng mà dữ liệu cho phép thiếu\n",
    "\n",
    "    Returns:\n",
    "        <list<list>>: dữ liệu sau khi đã được xóa bớt các dòng thiếu lượng lớn dữ liệu, dữ liệu là list của các dòng, mỗi dòng là một list chứa các giá trị\n",
    "    \"\"\"\n",
    "    # YOUR CODE HERE\n",
    "    res = []\n",
    "        \n",
    "    for row in data:\n",
    "        temp = []\n",
    "        for element in row:\n",
    "            temp.append(element)\n",
    "        res.append(temp)\n",
    "        \n",
    "    cur_row = 0\n",
    "    while cur_row < len(res):\n",
    "        count = 0\n",
    "        for col in range(len(header)):\n",
    "            if res[cur_row][col] == '':\n",
    "                count+=1\n",
    "        if count/len(res[cur_row]) >= ratio:\n",
    "            del(res[cur_row])\n",
    "            cur_row -= 1\n",
    "        cur_row += 1\n",
    "            \n",
    "    return res\n",
    "#     raise NotImplementedError()"
   ]
  },
  {
   "cell_type": "code",
   "execution_count": 24,
   "metadata": {
    "id": "jYbyEoOfBO0h"
   },
   "outputs": [],
   "source": [
    "assert len(filter_missing_row(data, 0.3)) == 285581"
   ]
  },
  {
   "cell_type": "markdown",
   "metadata": {
    "id": "brBbE2eQBO0h"
   },
   "source": [
    "Hàm `filter_missing_col()` sẽ nhận vào dữ liệu và tỉ lệ ngưỡng `ratio` giữa số lượng dữ liệu thiếu và tổng số lượng mẫu. Lấy ví dụ, nếu `ratio=0.5` thì các thuộc tính (các cột) có số lượng giá trị thiếu lớn hơn 50% so với số lượng mẫu của tập dữ liệu sẽ bị loại bỏ"
   ]
  },
  {
   "cell_type": "code",
   "execution_count": 25,
   "metadata": {
    "id": "e_1WQUFiBO0h"
   },
   "outputs": [],
   "source": [
    "def filter_missing_col(data, header, ratio = 0.5):\n",
    "    \"\"\"Hàm này có nhiệm vụ xóa đi các cột có tỉ lệ dữ liệu bị thiếu LỚN HƠN HOẶC BẰNG một ngưỡng cho trước\n",
    "\n",
    "    Args:\n",
    "        data <list<list>>: list của các dòng dữ liệu trong file dữ liệu đầu vào, mỗi dòng sẽ là một list các giá trị\n",
    "        ratio (float, optional): Tỉ lệ ngưỡng mà dữ liệu cho phép thiếu\n",
    "\n",
    "    Returns:\n",
    "        <list>: header đã được cập nhật thông qua việc loại bỏ đi bớt các cột không đủ điều kiện (nếu có loại bỏ)\n",
    "        <list<list>>: dữ liệu sau khi đã được xóa bớt các cột thiếu lượng lớn dữ liệu, dữ liệu là list của các dòng, mỗi dòng là một list chứa các giá trị\n",
    "    \"\"\"\n",
    "\n",
    "    # YOUR CODE HERE\n",
    "    new_data = []\n",
    "    new_header = []\n",
    "        \n",
    "    for row in data:\n",
    "        temp = []\n",
    "        for element in row:\n",
    "            temp.append(element)\n",
    "        new_data.append(temp)\n",
    "        \n",
    "    for element in header:\n",
    "        new_header.append(element)\n",
    "        \n",
    "    lst_col = []\n",
    "    for col in range(1,len(new_header)):\n",
    "        count = 0\n",
    "        for row in range(len(new_data)):\n",
    "            if new_data[row][col] == '':\n",
    "                count += 1\n",
    "        if count/len(new_data) >= ratio:\n",
    "            lst_col.append(col)\n",
    "    \n",
    "    temp = []\n",
    "    for element in lst_col:\n",
    "        temp.append(element)\n",
    "    i = 0\n",
    "    while i < len(temp):\n",
    "        del new_header[temp[i]]\n",
    "        for k in range(len(temp)):\n",
    "            temp[k] -= 1\n",
    "        i+=1\n",
    "        \n",
    "    for row in new_data:\n",
    "        i = 0\n",
    "        temp = []\n",
    "        for element in lst_col:\n",
    "            temp.append(element)\n",
    "        while i < len(temp):\n",
    "            del row[temp[i]]\n",
    "            for k in range(len(temp)):\n",
    "                temp[k] -= 1\n",
    "            i +=1\n",
    "        \n",
    "    return new_header,new_data\n",
    "#     raise NotImplementedError()\n"
   ]
  },
  {
   "cell_type": "code",
   "execution_count": 26,
   "metadata": {
    "id": "6pnSdZ8wKIkF"
   },
   "outputs": [],
   "source": [
    "new_header, new_data = filter_missing_col(data, header, 0.05)"
   ]
  },
  {
   "cell_type": "code",
   "execution_count": 27,
   "metadata": {
    "id": "E1-aotbEBO0h"
   },
   "outputs": [],
   "source": [
    "assert new_header == ['id', 'Hoa', 'Li', 'Sinh', 'Toan', 'Van']\n",
    "# Không tính cột id\n",
    "assert len(new_data[0]) - 1 == 5\n"
   ]
  },
  {
   "cell_type": "markdown",
   "metadata": {
    "id": "cjnINoa0BO0i"
   },
   "source": [
    "### 4) Xóa các mẫu bị trùng lặp (0.5đ)\n",
    "Kiểm tra, xác định các dòng bị trùng dữ liệu và xóa các dòng đó. \n",
    "\n",
    "Với mỗi dòng, so sánh với các dòng dữ liệu bên dưới để kiểm tra sự trùng lặp, các dòng sẽ được xem là trùng lặp nếu tất cả các thuộc tính giống nhau.\n",
    "\n",
    "Gợi ý: với mỗi dòng dữ liệu tổng hợp lại thành một chuỗi `str` nào đó rồi đưa vào `set`, sau đó dùng `set` để kiểm tra xem dữ liệu đã xuất hiện chưa. "
   ]
  },
  {
   "cell_type": "code",
   "execution_count": 28,
   "metadata": {
    "id": "nI-LzaxbBO0i"
   },
   "outputs": [],
   "source": [
    "def remove_duplicate(data):\n",
    "    \"\"\"Hàm này sẽ thực hiện loại bỏ các dòng bị trùng lặp VỀ MẶT DỮ LIỆU (không xét cột id)\n",
    "\n",
    "    Args:\n",
    "        data <list<list>>: list của các dòng dữ liệu trong file dữ liệu đầu vào, mỗi dòng sẽ là một list các giá trị\n",
    "\n",
    "    Returns:\n",
    "        <list<list>>: dữ liệu sau khi đã được xóa bớt các dòng trùng lặp, dữ liệu là list của các dòng, mỗi dòng là một list chứa các giá trị\n",
    "    \"\"\"\n",
    "    # YOUR CODE HERE\n",
    "    new_data = []\n",
    "    \n",
    "    temp_data = set()\n",
    "    for row in data:\n",
    "        st = ''\n",
    "        for i in range(1,len(row)):\n",
    "            st += str(row[i]) + '#'\n",
    "        if st not in temp_data:\n",
    "            temp_data.add(st)\n",
    "            new_data.append(row)\n",
    "\n",
    "    return new_data\n",
    "        \n",
    "#     raise NotImplementedError()"
   ]
  },
  {
   "cell_type": "code",
   "execution_count": 29,
   "metadata": {
    "id": "rSmbHyLRBO0i"
   },
   "outputs": [],
   "source": [
    "assert len(remove_duplicate(data)) == 292762"
   ]
  },
  {
   "cell_type": "markdown",
   "metadata": {
    "id": "xymxnJCOBO0i"
   },
   "source": [
    "### 5) Loại bỏ bớt giá trị cực hạn của các cột numeric (1đ)\n",
    "\n",
    "Sinh viên sẽ sử dụng luật 2 sigma (95% dữ liệu sẽ thuộc đoạn [$\\mu \\pm 2*\\sigma$]) và 3 sigma (99.7% dữ liệu sẽ thuộc đoạn [$\\mu \\pm 3*\\sigma$]) để loại bỏ các mẫu có giá trị mang giá trị không bình thường.\n",
    "\n",
    "Hàm `std()` sẽ trả về danh sách chứa các giá trị độ lệch chuẩn của các cột có dạng numeric\n",
    "\n",
    "Hàm `remove_outlier()` sẽ loại bỏ các nhiều bằng các sử dụng lại kết quả của hàm `std()` và hàm `mean()`\n",
    "\n",
    "**Lưu ý:** Các số float cần phải được làm tròn về 2 chữ số bằng hàm `round()`"
   ]
  },
  {
   "cell_type": "code",
   "execution_count": 30,
   "metadata": {
    "id": "m8EPESxGBO0i"
   },
   "outputs": [],
   "source": [
    "def std(data):\n",
    "    \"\"\"Hàm này dùng để tính độ lệch chuẩn theo các cột có dạng numeric\n",
    "\n",
    "    Args:\n",
    "        data <list<list>>: list của các dòng dữ liệu trong file dữ liệu đầu vào, mỗi dòng sẽ là một list các giá trị\n",
    "\n",
    "    Returns:\n",
    "        <list>: list chứa các giá trị độ lệch chuẩn theo từng cột\n",
    "    \"\"\"\n",
    "    # YOUR CODE HERE\n",
    "    res = []\n",
    "    my_mean = mean(data)\n",
    "    count_mean = 0\n",
    "\n",
    "    for col in range(1,len(header)):\n",
    "        count = 0\n",
    "        sum_var = 0\n",
    "        if type(data[0][col]) == float:\n",
    "            for row in range(len(data)):\n",
    "                if data[row][col] != '':\n",
    "                    count += 1\n",
    "                    sum_var += (data[row][col] - my_mean[count_mean])**2\n",
    "            if(sum_var != 0):\n",
    "                std_value = round(math.sqrt(sum_var/(count-1)),2)\n",
    "                res.append(std_value)\n",
    "            count_mean += 1\n",
    "        \n",
    "    return res\n",
    "#     raise NotImplementedError() "
   ]
  },
  {
   "cell_type": "code",
   "execution_count": 31,
   "metadata": {
    "id": "Yl4auO5rBO0i"
   },
   "outputs": [],
   "source": [
    "assert std(data) == [1.59, 1.62, 1.78, 1.25, 1.39, 1.11]"
   ]
  },
  {
   "cell_type": "markdown",
   "metadata": {
    "id": "WJBLG6f1BO0i"
   },
   "source": [
    "Hàm `remove_outlier()` sẽ nhận vào `data` và số `k`-sigma mà chúng ta muốn chọn ra từ dữ liệu, dòng dữ liệu sẽ được giữ lại nếu:\n",
    "$$\n",
    "(\\mu_i - k*\\sigma_i) \\le value_i \\le (\\mu + k*\\sigma_i)\n",
    "$$\n",
    "\n",
    "Với $\\sigma_i, value_i$ lần lượt là giá trị của cột $i$ và độ lệch chuẩn của cột $i$ "
   ]
  },
  {
   "cell_type": "code",
   "execution_count": 32,
   "metadata": {
    "id": "el5l1Qr3BO0i"
   },
   "outputs": [
    {
     "ename": "ModuleNotFoundError",
     "evalue": "No module named 'tqdm'",
     "output_type": "error",
     "traceback": [
      "\u001b[1;31m---------------------------------------------------------------------------\u001b[0m",
      "\u001b[1;31mModuleNotFoundError\u001b[0m                       Traceback (most recent call last)",
      "Cell \u001b[1;32mIn [32], line 1\u001b[0m\n\u001b[1;32m----> 1\u001b[0m \u001b[38;5;28;01mfrom\u001b[39;00m \u001b[38;5;21;01mtqdm\u001b[39;00m \u001b[38;5;28;01mimport\u001b[39;00m tqdm\n\u001b[0;32m      3\u001b[0m \u001b[38;5;28;01mdef\u001b[39;00m \u001b[38;5;21mremove_outlier\u001b[39m(data, k):\n\u001b[0;32m      4\u001b[0m     \u001b[38;5;124;03m\"\"\"Hàm này sẽ loại bỏ các dòng chứa ít nhất một giá trị không thuộc đoạn cho phép ứng với mean và std của từng cột\u001b[39;00m\n\u001b[0;32m      5\u001b[0m \n\u001b[0;32m      6\u001b[0m \u001b[38;5;124;03m    Args:\u001b[39;00m\n\u001b[1;32m   (...)\u001b[0m\n\u001b[0;32m     11\u001b[0m \u001b[38;5;124;03m        <list<list>>: dữ liệu sau khi đã được xóa bớt các dòng có chứa giá trị không thuộc đoạn dữ liệu cho phép, dữ liệu là list của các dòng, mỗi dòng là một list chứa các giá trị\u001b[39;00m\n\u001b[0;32m     12\u001b[0m \u001b[38;5;124;03m    \"\"\"\u001b[39;00m\n",
      "\u001b[1;31mModuleNotFoundError\u001b[0m: No module named 'tqdm'"
     ]
    }
   ],
   "source": [
    "from tqdm import tqdm\n",
    "\n",
    "def remove_outlier(data, k):\n",
    "    \"\"\"Hàm này sẽ loại bỏ các dòng chứa ít nhất một giá trị không thuộc đoạn cho phép ứng với mean và std của từng cột\n",
    "\n",
    "    Args:\n",
    "        data <list<list>>: list của các dòng dữ liệu trong file dữ liệu đầu vào, mỗi dòng sẽ là một list các giá trị\n",
    "        k <float>: số lượng sigma được dùng để tính khoảng \n",
    "\n",
    "    Returns:\n",
    "        <list<list>>: dữ liệu sau khi đã được xóa bớt các dòng có chứa giá trị không thuộc đoạn dữ liệu cho phép, dữ liệu là list của các dòng, mỗi dòng là một list chứa các giá trị\n",
    "    \"\"\"\n",
    "    # YOUR CODE HERE\n",
    "    res = []\n",
    "    \n",
    "    for row in data:\n",
    "        temp = []\n",
    "        for element in row:\n",
    "            temp.append(element)\n",
    "        res.append(temp)    \n",
    "        \n",
    "    cur_row = 0\n",
    "    my_mean = mean(data)\n",
    "    my_std = std(data)\n",
    "    cur_row = 0\n",
    "    \n",
    "    while cur_row < len(res):\n",
    "        count = 0\n",
    "        for col in range(1,len(header)):\n",
    "            if type(res[cur_row][col]) == float and res[cur_row][col] != '':\n",
    "                if res[cur_row][col] < (my_mean[count] - k*my_std[count]) or res[cur_row][col] > (my_mean[count] + k*my_std[count]):\n",
    "                    del(res[cur_row])\n",
    "                    cur_row-=1\n",
    "                    break\n",
    "            if type(res[cur_row][col]) == float: \n",
    "                count += 1\n",
    "            if count == len(my_mean) or count == len(my_std):\n",
    "                break\n",
    "        cur_row += 1\n",
    "    \n",
    "    return res\n",
    "                        \n"
   ]
  },
  {
   "cell_type": "code",
   "execution_count": 33,
   "metadata": {},
   "outputs": [],
   "source": [
    "sampled_data = data[0:1000]"
   ]
  },
  {
   "cell_type": "markdown",
   "metadata": {},
   "source": [
    "### MONG THẦY XEM LẠI GIÚP EM THUẬT TOÁN VÀ ĐÁP ÁN CỦA CÂU NÀY Ạ. EM CẢM ƠN"
   ]
  },
  {
   "cell_type": "markdown",
   "metadata": {
    "id": "-Hp6sOdLBO0i"
   },
   "source": [
    "Do hàm này có khá nhiều phép so sánh nên mình sẽ chọn ra 1000 mẫu đầu tiên của dữ liệu để kiểm tra hàm"
   ]
  },
  {
   "cell_type": "code",
   "execution_count": 34,
   "metadata": {
    "id": "Klz8rPutBO0i"
   },
   "outputs": [
    {
     "ename": "NameError",
     "evalue": "name 'remove_outlier' is not defined",
     "output_type": "error",
     "traceback": [
      "\u001b[1;31m---------------------------------------------------------------------------\u001b[0m",
      "\u001b[1;31mNameError\u001b[0m                                 Traceback (most recent call last)",
      "Cell \u001b[1;32mIn [34], line 3\u001b[0m\n\u001b[0;32m      1\u001b[0m sampled_data \u001b[38;5;241m=\u001b[39m data[\u001b[38;5;241m0\u001b[39m:\u001b[38;5;241m1000\u001b[39m]\n\u001b[1;32m----> 3\u001b[0m \u001b[38;5;28;01massert\u001b[39;00m \u001b[38;5;28mlen\u001b[39m(\u001b[43mremove_outlier\u001b[49m(sampled_data, k \u001b[38;5;241m=\u001b[39m \u001b[38;5;241m2\u001b[39m)) \u001b[38;5;241m==\u001b[39m \u001b[38;5;241m810\u001b[39m\n",
      "\u001b[1;31mNameError\u001b[0m: name 'remove_outlier' is not defined"
     ]
    }
   ],
   "source": [
    "sampled_data = data[0:1000]\n",
    "\n",
    "assert len(remove_outlier(sampled_data, k = 2)) == 810"
   ]
  },
  {
   "cell_type": "markdown",
   "metadata": {
    "id": "oIE3hKa2BO0i"
   },
   "source": [
    "### 6) Tính điểm tổ hợp môn (1.5đ)\n",
    "\n",
    "Sinh viên cần tạo thêm các cột mới chứa điểm tổ hợp các môn theo thứ tự lần lượt [`A`, `A1`, `A2`, `B`, `D`]. Cụ thể, sinh viên cần tính điểm tổ hợp khối `A`, khối `A1`, khối `A2`, khối `B` và khối `D` theo cách tính.\n",
    "\n",
    "Cột `A` = `Toan` + `Li` + `Hoa`\n",
    "\n",
    "Cột `A1` = `Toan` + `Li` + `Ngoai_ngu`\n",
    "\n",
    "Cột `A2` = `Toan` + `Hoa` + `Ngoai_ngu` \n",
    "\n",
    "Cột `B` = `Toan` + `Hoa` + `Sinh`\n",
    "\n",
    "Cột `D` = `Toan` + `Van` + `Ngoai_ngu`\n",
    "\n",
    "**Lưu ý:** khối `A1`, khối `A2` chỉ được tính khi `Ma_mon_ngoai_ngu = N1`, nếu `Ma_mon_ngoai_ngu != N1`, thì cột `A1` và `A2` sẽ có giá trị 0\n",
    "\n",
    "Xét ví dụ: \n",
    "\n",
    "+ Cho header\n",
    "\n",
    "['id', 'Hoa', 'Li', 'Ma_mon_ngoai_ngu', 'Ngoai_ngu', 'Sinh', 'Toan', 'Van']\n",
    "\n",
    "+ Xét mẫu dữ liệu\n",
    "\n",
    "[0, 4.5, 8.25, 'N1', 8.0, 6.0, 8.6, 6.17]\n",
    "\n",
    "+ Header sẽ được xây dựng thành\n",
    "\n",
    "['id', 'Hoa', 'Li', 'Ma_mon_ngoai_ngu', 'Ngoai_ngu', 'Sinh', 'Toan', 'Van', `'A'`, `'A1'`, `'A2'`, `'B'`, `'D'`]\n",
    "\n",
    "+ Dữ liệu xây dựng thành\n",
    "\n",
    "[0, 4.5, 8.25, N1, 8.0, 6.0, 8.6, 6.17, `A`, `A1`, `A2`, `B`, `D`]\n",
    "\n",
    "+ Và bằng\n",
    "\n",
    "[0, 4.5, 8.25, N1, 8.0, 6.0, 8.6, 6.17, `21.35`, `24.85`, `21.1`, `19.1`, `22.77`]\n",
    "\n",
    "Sinh viên sử dụng dữ liệu đã được điền đầy đủ giá trị bằng giá trị 0 (data_filled_const) để tính tổng, vì thí sinh không dự thi đồng nghĩa với điểm bằng 0 khi xét tổ hợp môn. Điểm số sẽ được làm tròn tối đa 2 chữ số thập phân bằng hàm `round()`"
   ]
  },
  {
   "cell_type": "code",
   "execution_count": null,
   "metadata": {
    "id": "KfocAckkBO0i"
   },
   "outputs": [],
   "source": [
    "# Sinh viên uncomment đoạn code này để đọc vào dữ liệu đã được điền thiếu có sẵn nếu không làm được câu 2\n",
    "# header, data_filled_const = data_reader('data_filled_const.csv')\n",
    "# assert data_filled_const[20] == [20, 3.0, 0, 'N1', 0, 5.0, 4.8, 0]"
   ]
  },
  {
   "cell_type": "code",
   "execution_count": 35,
   "metadata": {
    "id": "hC1i2kPDBO0i"
   },
   "outputs": [],
   "source": [
    "def calculate_combination(data, header):\n",
    "    \"\"\"Hàm này sẽ có nhiệm vụ xây dựng nên các thuộc tính mới cho dữ liệu, cụ thể là tính điểm tổ hợp các khối liên quan\n",
    "\n",
    "    Args:\n",
    "        data <list<list>>: list của các dòng dữ liệu trong file dữ liệu đầu vào, mỗi dòng sẽ là một list các giá trị\n",
    "        header <list>: list chứa tên của các cột thuộc tính\n",
    "\n",
    "\n",
    "    Returns:\n",
    "        <list>: header đã được cập nhật thêm tên của các cột thuộc tính mới\n",
    "        <list<list>>: dữ liệu sau khi đã được xóa bớt các dòng có chứa giá trị không thuộc đoạn dữ liệu cho phép, dữ liệu là list của các dòng, mỗi dòng là một list chứa các giá trị\n",
    "    \"\"\"\n",
    "    # YOUR CODE HERE\n",
    "    res = []\n",
    "    create_header = ['A','A1','A2','B','D']\n",
    "    new_header = []\n",
    "    \n",
    "    for row in data:\n",
    "        temp = []\n",
    "        for col in range(len(row)):\n",
    "            temp.append(row[col])\n",
    "        res.append(temp)\n",
    "        \n",
    "    for element in header:\n",
    "        new_header.append(element)\n",
    "        \n",
    "    for element in create_header:\n",
    "        new_header.append(element)\n",
    "        \n",
    "    for row in range(len(res)):\n",
    "        for i in range(len(create_header)):\n",
    "            res[row].append('')\n",
    "    \n",
    "    for col in range(len(header),len(new_header)):\n",
    "        for row in range(len(res)):\n",
    "            if new_header[col] == 'A':\n",
    "                res[row][col] = round(res[row][1] + res[row][2] + res[row][6],2)\n",
    "            if new_header[col] == 'A1' and res[row][3] == 'N1':\n",
    "                res[row][col] = round(res[row][2] + res[row][4] + res[row][6],2)\n",
    "            if new_header[col] == 'A2' and res[row][3] == 'N1':\n",
    "                res[row][col] = round(res[row][1] + res[row][4] + res[row][6],2)\n",
    "            if new_header[col] == 'B':\n",
    "                res[row][col] = round(res[row][1] + res[row][5] + res[row][6],2)\n",
    "            if new_header[col] == 'D'and res[row][3] == 'N1':\n",
    "                res[row][col] = round(res[row][7] + res[row][4] + res[row][6],2)\n",
    "            if (new_header[col] == 'A1' or new_header[col] == 'A2' or res[0][col] == 'D') and (res[row][3] != 'N1'):\n",
    "                res[row][col] = 0\n",
    "                \n",
    "    new_data = fill_data(res, type_on_numeric = 'const')\n",
    "    \n",
    "    return new_header,new_data\n",
    "    "
   ]
  },
  {
   "cell_type": "code",
   "execution_count": 36,
   "metadata": {
    "id": "8jFCsRuEBO0i"
   },
   "outputs": [],
   "source": [
    "new_header, new_data = calculate_combination(data_filled_const, header)"
   ]
  },
  {
   "cell_type": "code",
   "execution_count": 37,
   "metadata": {
    "id": "Ct--Ef71BO0i"
   },
   "outputs": [],
   "source": [
    "assert new_header == ['id', 'Hoa', 'Li', 'Ma_mon_ngoai_ngu', 'Ngoai_ngu', 'Sinh', 'Toan', 'Van', 'A', 'A1', 'A2', 'B', 'D']\n",
    "assert new_data[0] == [0, 4.5, 8.25, 'N1', 8.0, 6.0, 8.6, 6.17, 21.35, 24.85, 21.1, 19.1, 22.77]"
   ]
  },
  {
   "cell_type": "markdown",
   "metadata": {
    "id": "CiRdJi9eBO0i"
   },
   "source": [
    "### 7) Chuẩn hóa dữ liệu (1đ)\n",
    "\n",
    "Sinh viên cần chuẩn hóa các cột dạng numeric theo phương pháp min-max và Z-score\n",
    "\n",
    "Sử dụng kết quả dữ liệu tìm được ở câu 2 để làm input cho hàm chuẩn hóa "
   ]
  },
  {
   "cell_type": "code",
   "execution_count": null,
   "metadata": {
    "id": "BP2otTJyBO0i"
   },
   "outputs": [],
   "source": [
    "# Sinh viên uncomment đoạn code này để đọc vào dữ liệu đã được điền thiếu có sẵn nếu không làm được câu 2\n",
    "# header, data_filled_const = data_reader('data_filled_const.csv')\n",
    "# assert data_filled_const[20] == [20, 3.0, 0, 'N1', 0, 5.0, 4.8, 0]"
   ]
  },
  {
   "cell_type": "code",
   "execution_count": 41,
   "metadata": {
    "id": "9HrAyTs7BO0j"
   },
   "outputs": [],
   "source": [
    "def min_max_value(data):\n",
    "    \"\"\"Hàm này sẽ có nhiệm vụ tìm các giá trị min và max theo từng cột thuộc tính của dữ liệu đầu vào\n",
    "\n",
    "    Args:\n",
    "        data <list<list>>: list của các dòng dữ liệu trong file dữ liệu đầu vào, mỗi dòng sẽ là một list các giá trị\n",
    "\n",
    "    Returns:\n",
    "        <list>: list chứa các giá trị min ứng với từng cột thuộc tính có dạng numeric\n",
    "        <list>: list chứa các giá trị max ứng với từng cột thuộc tính có dạng numeric\n",
    "    \"\"\"\n",
    "    # YOUR CODE HERE (OPTIONAL)\n",
    "    res = []\n",
    "    \n",
    "    for row in data:\n",
    "        temp = []\n",
    "        for col in range(len(row)):\n",
    "            temp.append(row[col])\n",
    "        res.append(temp)\n",
    "    \n",
    "    lst_min = []\n",
    "    lst_max = []\n",
    "    \n",
    "    for col in range(len(header)):\n",
    "        temp_min = 99999\n",
    "        temp_max = 0\n",
    "        for row in range(len(res)):\n",
    "            if type(res[row][col]) == float:\n",
    "                if res[row][col] < temp_min:\n",
    "                    temp_min = res[row][col]\n",
    "                if res[row][col] > temp_max:\n",
    "                    temp_max = res[row][col]\n",
    "                    \n",
    "        lst_min.append(temp_min)\n",
    "        lst_max.append(temp_max)\n",
    "    \n",
    "    return lst_min,lst_max\n",
    "    "
   ]
  },
  {
   "cell_type": "code",
   "execution_count": 42,
   "metadata": {
    "id": "6dy2njaMBO0j"
   },
   "outputs": [],
   "source": [
    "def min_max_scaler(data):\n",
    "    \"\"\"Hàm này sẽ có nhiệm vụ chuẩn hóa dữ liệu theo phương pháp min-max\n",
    "\n",
    "    Args:\n",
    "        data <list<list>>: list của các dòng dữ liệu trong file dữ liệu đầu vào, mỗi dòng sẽ là một list các giá trị\n",
    "\n",
    "    Returns:\n",
    "        <list<list>>: dữ liệu sau khi đã được chuẩn hóa theo phương pháp min-max, dữ liệu là list của các dòng, mỗi dòng là một list chứa các giá trị\n",
    "    \"\"\"\n",
    "    # YOUR CODE HERE\n",
    "    res = []\n",
    "    \n",
    "    for row in data:\n",
    "        temp = []\n",
    "        for col in range(len(row)):\n",
    "            temp.append(row[col])\n",
    "        res.append(temp)\n",
    "    \n",
    "    lst_min,lst_max = min_max_value(data)\n",
    "    \n",
    "    for col in range(len(header)):\n",
    "        for row in range(len(res)):\n",
    "            if type(res[row][col]) == float:\n",
    "                res[row][col] = round((res[row][col] - lst_min[col])/(lst_max[col] - lst_min[col]),2)\n",
    "    \n",
    "    return res"
   ]
  },
  {
   "cell_type": "code",
   "execution_count": 43,
   "metadata": {
    "id": "d0XhyfU4BO0j"
   },
   "outputs": [],
   "source": [
    "def standard_scaler(data):\n",
    "    \"\"\"Hàm này sẽ có nhiệm vụ chuẩn hóa dữ liệu theo phương pháp z-score. Sử dụng lại hàm mean() và std() nếu có thể.\n",
    "\n",
    "    Args:\n",
    "        data <list<list>>: list của các dòng dữ liệu trong file dữ liệu đầu vào, mỗi dòng sẽ là một list các giá trị\n",
    "\n",
    "    Returns:\n",
    "        <list<list>>: dữ liệu sau khi đã được chuẩn hóa theo phương pháp z-score, dữ liệu là list của các dòng, mỗi dòng là một list chứa các giá trị\n",
    "    \"\"\"\n",
    "    # YOUR CODE HERE\n",
    "    res = []\n",
    "    \n",
    "    for row in data:\n",
    "        temp = []\n",
    "        for col in range(len(row)):\n",
    "            temp.append(row[col])\n",
    "        res.append(temp)\n",
    "    \n",
    "    temp_mean = mean(data)\n",
    "    temp_std = std(data)\n",
    "    my_mean = []\n",
    "    my_std = []\n",
    "    i=0\n",
    "\n",
    "    for col in range(len(header)):\n",
    "        if type(res[0][col]) == float:\n",
    "            my_mean.append(temp_mean[i])\n",
    "            my_std.append(temp_std[i])\n",
    "            i+=1\n",
    "        else:\n",
    "            my_mean.append(0)\n",
    "            my_std.append(0)\n",
    "    \n",
    "    \n",
    "    for col in range(len(header)):\n",
    "        if type(res[0][col]) == float:\n",
    "            for row in range(len(res)):\n",
    "                res[row][col] = round((res[row][col] - my_mean[col])/(my_std[col]),2)\n",
    "\n",
    "    return res\n",
    "    "
   ]
  },
  {
   "cell_type": "code",
   "execution_count": 47,
   "metadata": {
    "id": "LPEcTMm6BO0j"
   },
   "outputs": [],
   "source": [
    "min_max_normalized_data = min_max_scaler(data_filled_const)\n",
    "standard_normalized_data = standard_scaler(data_filled_const)\n"
   ]
  },
  {
   "cell_type": "code",
   "execution_count": 46,
   "metadata": {
    "id": "yPvpMz0TBO0j"
   },
   "outputs": [],
   "source": [
    "assert standard_normalized_data[0] == [0, -0.5, 1.58, 'N1', 1.72, 1.02, 1.29, 0.5]\n",
    "assert min_max_normalized_data[0] == [0, 0.45, 0.82, 'N1', 0.8, 0.6, 0.86, 0.65]"
   ]
  },
  {
   "cell_type": "markdown",
   "metadata": {
    "id": "M4USH_RVBO0j"
   },
   "source": [
    "### 8) Mã hóa one-hot (1đ)\n",
    "\n",
    "Biến đổi cột `Ma_mon_ngoai_ngu` (cột dạng categorical) theo phương pháp mã hóa one-hot\n",
    "\n",
    "Xét ví dụ: \n",
    "\n",
    "+ Cho header\n",
    "\n",
    "['id', 'Hoa', 'Li', 'Ma_mon_ngoai_ngu', 'Ngoai_ngu', 'Sinh', 'Toan', 'Van']\n",
    "\n",
    "+ Xét mẫu dữ liệu\n",
    "\n",
    "[0, 4.5, 8.25, 'N1', 8.0, 6.0, 8.6, 6.17]\n",
    "\n",
    "+ Header được xây dựng thành\n",
    "\n",
    "['id', 'Hoa', 'Li', 'Ngoai_ngu', 'Sinh', 'Toan', 'Van', `'N1'`, `'N2'`, `'N3'`, `'N4'`, `'N5'`, `'N6'`]\n",
    "\n",
    "+ Và dữ liệu bằng\n",
    "\n",
    "[0, 4.5, 8.25, 8.0, 6.0, 8.6, 6.17, `1`, `0`, `0`, `0`, `0`, `0`]\n",
    "\n",
    "**Lưu ý:** Sinh viên cần tự cài đặt hàm tìm các giá trị có thể có của một cột dạng categorical và lưu các giá trị của cột đó bằng một danh sách đã được sắp xếp tăng dần theo bảng chữ cái (nếu không thực hiện được câu 2)\n",
    "\n",
    "Sử dụng kết quả dữ liệu tìm được ở câu 2 để làm input"
   ]
  },
  {
   "cell_type": "code",
   "execution_count": null,
   "metadata": {
    "id": "CO5997q7E5Va"
   },
   "outputs": [],
   "source": [
    "# Sinh viên uncomment đoạn code này để đọc vào dữ liệu đã được điền thiếu có sẵn nếu không làm được câu 2\n",
    "# header, data_filled_const = data_reader('data_filled_const.csv')\n",
    "# assert data_filled_const[20] == [20, 3.0, 0, 'N1', 0, 5.0, 4.8, 0]"
   ]
  },
  {
   "cell_type": "code",
   "execution_count": null,
   "metadata": {
    "id": "vRxX3u2sBO0j"
   },
   "outputs": [],
   "source": [
    "def OneHotEncoder(data, header):\n",
    "    \"\"\"Hàm này sẽ có nhiệm mã hóa one-hot dữ liệu trên cột 'Ma_mon_ngoai_ngu'\n",
    "\n",
    "    Args:\n",
    "        data <list<list>>: list của các dòng dữ liệu trong file dữ liệu đầu vào, mỗi dòng sẽ là một list các giá trị\n",
    "        header <list>: list chứa tên của các cột thuộc tính\n",
    "\n",
    "\n",
    "    Returns:\n",
    "        <list>: header đã được cập nhật thêm tên của các cột thuộc tính mới và đã loại bỏ đi cột 'Ma_mon_ngoai_ngu'\n",
    "        <list<list>>: dữ liệu sau khi đã được mã hóa one-hot, dữ liệu là list của các dòng, mỗi dòng là một list chứa các giá trị\n",
    "    \"\"\"\n",
    "    # YOUR CODE HERE\n",
    "    res = []\n",
    "    create_header = ['N1','N2','N3','N4','N5','N6']\n",
    "    new_header = []\n",
    "    \n",
    "    for row in data:\n",
    "        temp = []\n",
    "        for col in range(len(row)):\n",
    "            temp.append(row[col])\n",
    "        res.append(temp)\n",
    "        \n",
    "    for element in header:\n",
    "        new_header.append(element)\n",
    "        \n",
    "    for element in create_header:\n",
    "        new_header.append(element)\n",
    "        \n",
    "    for row in range(len(res)):\n",
    "        for i in range(len(create_header)):\n",
    "            res[row].append('')\n",
    "    \n",
    "    for row in res:\n",
    "        if(row[3] == 'N1'): row[8] = 1\n",
    "        if(row[3] == 'N2'): row[9] = 1\n",
    "        if(row[3] == 'N3'): row[10] = 1\n",
    "        if(row[3] == 'N4'): row[11] = 1\n",
    "        if(row[3] == 'N5'): row[12] = 1\n",
    "        if(row[3] == 'N6'): row[13] = 1\n",
    "        del row[3]\n",
    "    \n",
    "    new_data = fill_data(res, type_on_numeric = 'const')\n",
    "    \n",
    "    return new_header,new_data"
   ]
  },
  {
   "cell_type": "code",
   "execution_count": null,
   "metadata": {},
   "outputs": [],
   "source": [
    "new_header, new_data = OneHotEncoder(data_filled_const, header)"
   ]
  },
  {
   "cell_type": "code",
   "execution_count": null,
   "metadata": {
    "id": "pNODJ2q_BO0j"
   },
   "outputs": [],
   "source": [
    "assert new_data[0] == [0, 4.5, 8.25, 8.0, 6.0, 8.6, 6.17, 1, 0, 0, 0, 0, 0]"
   ]
  },
  {
   "cell_type": "markdown",
   "metadata": {
    "id": "Z40RsGYLBO0j"
   },
   "source": [
    "## Phần 2: Làm quen với numpy và pandas (2.5đ)\n",
    "\n",
    "Đa số các yêu cầu trên đề được hỗ trợ bởi pandas và numpy. \n",
    "\n",
    "Sang đến phần này yêu cầu sinh viên tính độ tương quan giữa các cặp thuộc tính dạng numeric. \n",
    "\n",
    "Phần này cho phép sinh viên sử làm quen và sử dụng pandas để tính toán, và trực quan, tuy nhiên phần nào mình yêu cầu cài đặt thì sinh viên không được sử dụng thư viện có sẵn.\n",
    "\n",
    "Phần này sinh viên có thể tạo thêm cell nếu cần thiết"
   ]
  },
  {
   "cell_type": "code",
   "execution_count": null,
   "metadata": {
    "id": "khYYL9L7BO0j"
   },
   "outputs": [],
   "source": [
    "import pandas as pd\n",
    "import matplotlib.pyplot as plt\n",
    "import seaborn as sb"
   ]
  },
  {
   "cell_type": "code",
   "execution_count": null,
   "metadata": {
    "id": "caBHz9x_BO0j"
   },
   "outputs": [],
   "source": [
    "df = pd.read_csv('data_filled_const.csv', index_col = 'id')\n",
    "df"
   ]
  },
  {
   "cell_type": "markdown",
   "metadata": {
    "id": "FcDON7J7BO0j"
   },
   "source": [
    "### 9) Tính độ tương quan giữa các cột thuộc tính (1đ)\n",
    "\n",
    "Sinh viên thực hiện tính độ tương quan (correlation) giữa các cặp thuộc tính có dạng numeric, và trực quan hóa theo biểu đồ heat map\n",
    "\n",
    "Tham khảo:\n",
    "\n",
    "[https://pandas.pydata.org/docs/reference/api/pandas.DataFrame.corr.html](https://pandas.pydata.org/docs/reference/api/pandas.DataFrame.corr.html)\n",
    "\n",
    "[https://seaborn.pydata.org/generated/seaborn.heatmap.html](https://seaborn.pydata.org/generated/seaborn.heatmap.html)\n",
    "\n",
    "Sau đó sử dụng thông tin về độ tương quan để kiểm tra giả thuyết :\n",
    "\n",
    "    Thí sinh học toán tốt sẽ có xu hướng học lý hoặc học hóa tốt"
   ]
  },
  {
   "cell_type": "code",
   "execution_count": null,
   "metadata": {},
   "outputs": [],
   "source": [
    "df.corr()"
   ]
  },
  {
   "cell_type": "code",
   "execution_count": null,
   "metadata": {},
   "outputs": [],
   "source": [
    "sb.heatmap(df.corr(),annot=True)"
   ]
  },
  {
   "cell_type": "code",
   "execution_count": null,
   "metadata": {},
   "outputs": [],
   "source": [
    "df1 = pd.DataFrame(df,columns=['Hoa','Toan'])\n",
    "df2 = pd.DataFrame(df,columns=['Li','Toan'])\n",
    "df1.corr()"
   ]
  },
  {
   "cell_type": "code",
   "execution_count": null,
   "metadata": {},
   "outputs": [],
   "source": [
    "sb.heatmap(df1.corr(),annot=True)"
   ]
  },
  {
   "cell_type": "code",
   "execution_count": null,
   "metadata": {},
   "outputs": [],
   "source": [
    "df2.corr()"
   ]
  },
  {
   "cell_type": "code",
   "execution_count": null,
   "metadata": {
    "id": "H-L08uT2BO0j"
   },
   "outputs": [],
   "source": [
    "sb.heatmap(df2.corr(),annot=True)"
   ]
  },
  {
   "cell_type": "markdown",
   "metadata": {},
   "source": [
    "Theo biểu đồ thì ta thấy được mức độ tương quan giữa môn toán đối với lý và hóa là cao và có giá trị xấp xỉ.\n",
    "Vậy nên giả thuyết: thí sinh học toán tốt sẽ có xu hướng học lý hoặc học hóa tốt là đúng"
   ]
  },
  {
   "cell_type": "markdown",
   "metadata": {
    "id": "K42FdLpmBO0k"
   },
   "source": [
    "### 10) Trực quan hóa (1.5đ)\n",
    "\n",
    "Thực hiện chọn và trực quan hóa phân phối điểm của các môn có trong dữ liệu học và nêu nhận xét về phân bố điểm thi. \n",
    "\n",
    "Riêng đối với môn ngoại ngữ, sinh viên chọn riêng ra theo từng `Ma_mon_ngoai_ngu` và trực quan hóa theo từng mã môn ngoại ngữ riêng (N1, N2, ... N6) và nêu nhận xét.\n",
    "\n"
   ]
  },
  {
   "cell_type": "code",
   "execution_count": null,
   "metadata": {},
   "outputs": [],
   "source": [
    "df['Hoa'].hist()"
   ]
  },
  {
   "cell_type": "markdown",
   "metadata": {},
   "source": [
    "Nhận xét: phân phối điểm môn Hóa thấp nhất là từ 9-10đ, cao nhất là từ 6-7đ"
   ]
  },
  {
   "cell_type": "code",
   "execution_count": null,
   "metadata": {},
   "outputs": [],
   "source": [
    "df['Li'].hist()"
   ]
  },
  {
   "cell_type": "markdown",
   "metadata": {},
   "source": [
    "Nhận xét: phân phối điểm môn Lý thấp nhất là từ 9-10đ, cao nhất là từ 6-7đ"
   ]
  },
  {
   "cell_type": "code",
   "execution_count": null,
   "metadata": {},
   "outputs": [],
   "source": [
    "df['Ngoai_ngu'].hist(by=df['Ma_mon_ngoai_ngu'], edgecolor='black', figsize = (8,6))"
   ]
  },
  {
   "cell_type": "markdown",
   "metadata": {},
   "source": [
    "Nhận xét: Hầu hết các thí sinh đăng ký mã môn N1, cụ thể là trên 60000 người. Về phân phối điểm môn ngoại ngữ đối với từng mã ngôn ngữ không đồng nhất, đối với N1 đạt đỉnh là ở mức 3-5đ và có xư hướng giảm dần, N2 là khoảng 7đ, N3 là khoảng trên 8-9đ, N4 là khoảng trên 4đ và khoảng trên 8-9đ, N5 là khoảng trên 8đ, N6 thì phân phối rải rác và có xu hướng giảm dần từ mức trên 5đ đến mức điểm cao hơn"
   ]
  },
  {
   "cell_type": "code",
   "execution_count": null,
   "metadata": {
    "id": "aeLfi5rYBO0k",
    "scrolled": false
   },
   "outputs": [],
   "source": [
    "df['Sinh'].hist()"
   ]
  },
  {
   "cell_type": "markdown",
   "metadata": {},
   "source": [
    "Nhận xét: phân phối điểm môn Sinh thấp nhất là 1-2đ và 9-10đ, cao nhất là từ 4-5đ"
   ]
  },
  {
   "cell_type": "code",
   "execution_count": null,
   "metadata": {},
   "outputs": [],
   "source": [
    "df['Toan'].hist()"
   ]
  },
  {
   "cell_type": "markdown",
   "metadata": {},
   "source": [
    "Nhận xét: phân phối điểm môn Toán thấp nhất là từ 1-2đ, cao nhất là từ 7-8đ"
   ]
  },
  {
   "cell_type": "code",
   "execution_count": null,
   "metadata": {},
   "outputs": [],
   "source": [
    "df['Van'].hist()"
   ]
  },
  {
   "cell_type": "markdown",
   "metadata": {},
   "source": [
    "Nhận xét: phân phối điểm môn Văm thấp nhất là từ 1-2đ, cao nhất là từ 5-7đ"
   ]
  },
  {
   "cell_type": "markdown",
   "metadata": {
    "id": "C_yzA8eeyaQ_"
   },
   "source": [
    "# Tài liệu tham khảo cho sinh viên\n",
    "1. Slide lý thuyết\n",
    "2. Textbook: J. Han and M. Kamber: Data Mining, Concepts and Techniques, Second Edition - Chapter 2: Getting to Know Your Data & Chapter 3: Data Preprocessing\n",
    "\n",
    "Mọi thắc mắc các bạn gửi mail cho người hướng dẫn thực hành phụ trách: **Kiều Vũ Minh Đức** (kvmduc3@gmail.com)."
   ]
  },
  {
   "cell_type": "code",
   "execution_count": null,
   "metadata": {
    "id": "bLlZsSu_DUQ6"
   },
   "outputs": [],
   "source": []
  }
 ],
 "metadata": {
  "colab": {
   "collapsed_sections": [
    "FcDON7J7BO0j"
   ],
   "provenance": []
  },
  "kernelspec": {
   "display_name": "Python 3.10.8 64-bit (microsoft store)",
   "language": "python",
   "name": "python3"
  },
  "language_info": {
   "codemirror_mode": {
    "name": "ipython",
    "version": 3
   },
   "file_extension": ".py",
   "mimetype": "text/x-python",
   "name": "python",
   "nbconvert_exporter": "python",
   "pygments_lexer": "ipython3",
   "version": "3.10.8"
  },
  "vscode": {
   "interpreter": {
    "hash": "e0acaf148705ed9ed86cc5cad12259d7985e30670e5686e5f55604a9b3b84a55"
   }
  }
 },
 "nbformat": 4,
 "nbformat_minor": 1
}
